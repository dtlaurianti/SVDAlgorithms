{
 "cells": [
  {
   "cell_type": "code",
   "execution_count": 1,
   "metadata": {},
   "outputs": [],
   "source": [
    "using LinearAlgebra"
   ]
  },
  {
   "cell_type": "code",
   "execution_count": 24,
   "metadata": {},
   "outputs": [
    {
     "data": {
      "text/plain": [
       "true"
      ]
     },
     "execution_count": 24,
     "metadata": {},
     "output_type": "execute_result"
    }
   ],
   "source": [
    "A = rand(5,6)\n",
    "F = svd(A);\n",
    "U, S, V = F;\n",
    "A ≈ U * Diagonal(S) * V'"
   ]
  },
  {
   "cell_type": "code",
   "execution_count": 26,
   "metadata": {},
   "outputs": [
    {
     "data": {
      "text/plain": [
       "SVD_test (generic function with 1 method)"
      ]
     },
     "execution_count": 26,
     "metadata": {},
     "output_type": "execute_result"
    }
   ],
   "source": [
    "function SVD_test()\n",
    "    #square matrices\n",
    "    for n in 3:100\n",
    "        for i in 1:10\n",
    "            A = rand(n,n)\n",
    "            Fa = svd(A)\n",
    "            U, S, V = Fa;\n",
    "            #=\n",
    "            myFa = mySvd(A)\n",
    "            myU, myS, myV = myFa;\n",
    "            @assert U ≈ myU\n",
    "            @assert S ≈ myV\n",
    "            @assert V ≈ myV\n",
    "            @assert U * Diagonal(S) * V' ≈ myU * Diagonal(myS) * myV'\n",
    "            @assert A ≈ myU * Diagonal(myS) * myV'\n",
    "            =#\n",
    "        end\n",
    "    end\n",
    "\n",
    "    #general matrices\n",
    "    for n in 3:100\n",
    "        for i in 1:10\n",
    "            A = rand(n,n)\n",
    "            Fa = svd(A)\n",
    "            U, S, V = Fa;\n",
    "            #=\n",
    "            myFa = mySvd(A)\n",
    "            myU, myS, myV = myFa;\n",
    "            @assert U ≈ myU\n",
    "            @assert S ≈ myV\n",
    "            @assert V ≈ myV\n",
    "            @assert U * Diagonal(S) * V' ≈ myU * Diagonal(myS) * myV'\n",
    "            @assert A ≈ myU * Diagonal(myS) * myV'\n",
    "            =#\n",
    "        end\n",
    "    end\n",
    "end"
   ]
  },
  {
   "cell_type": "code",
   "execution_count": null,
   "metadata": {},
   "outputs": [],
   "source": [
    "#=\n",
    "julia> A = rand(4,3);\n",
    "\n",
    "julia> F = svd(A); # Store the Factorization Object\n",
    "\n",
    "julia> A ≈ F.U * Diagonal(F.S) * F.Vt\n",
    "true\n",
    "\n",
    "julia> U, S, V = F; # destructuring via iteration\n",
    "\n",
    "julia> A ≈ U * Diagonal(S) * V'\n",
    "true\n",
    "\n",
    "julia> Uonly, = svd(A); # Store U only\n",
    "\n",
    "julia> Uonly == U\n",
    "true\n",
    "=#"
   ]
  }
 ],
 "metadata": {
  "kernelspec": {
   "display_name": "Julia 1.5.1",
   "language": "julia",
   "name": "julia-1.5"
  },
  "language_info": {
   "file_extension": ".jl",
   "mimetype": "application/julia",
   "name": "julia",
   "version": "1.5.1"
  }
 },
 "nbformat": 4,
 "nbformat_minor": 4
}
