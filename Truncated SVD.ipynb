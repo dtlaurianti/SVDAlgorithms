{
 "cells": [
  {
   "cell_type": "code",
   "execution_count": 39,
   "metadata": {},
   "outputs": [
    {
     "data": {
      "text/plain": [
       "truncatedSVD (generic function with 1 method)"
      ]
     },
     "execution_count": 39,
     "metadata": {},
     "output_type": "execute_result"
    }
   ],
   "source": [
    "using LinearAlgebra\n",
    "# SVD algorithm\n",
    "# Takes matrix A as input, outputs unitary matrices U, V and diagonal matrix S\n",
    "# Such that A ≈ U*S*V^T\n",
    "\n",
    "# Truncated SVD, computes only the t column vectors of U, t singular values, and t row vectors of V\n",
    "# where t is an arbitrary positive integer\n",
    "function truncatedSVD(A, t)\n",
    "    m, n = size(A)\n",
    "        \n",
    "    if (n > m)\n",
    "        throw(ArgumentError(A, \"Matrix must be tall.\"))\n",
    "    end\n",
    "\n",
    "    # compute singular values\n",
    "    sigma, singVec_V = eigen(hessenberg(Symmetric(A' * A)).H, n-t+1:n)\n",
    "    print(\"\\nsigma: \")\n",
    "    show(stdout, \"text/plain\", sigma)\n",
    "    \n",
    "    \n",
    "    # calculate r\n",
    "    sig_rank = size(filter((x -> x != 0), sigma), 1)\n",
    "    \n",
    "    # does not work on complex eigen values\n",
    "    # Calculate the squareroot of the eigenvalues of the A'A matrix, which are the eigenvalues of A\n",
    "    sigma = broadcast((x -> sqrt(abs(x))), sigma)\n",
    "    # Sort singVec_V and sigma so the eigenvalues are in descending order\n",
    "    singVec_V = singVec_V[:, sortperm(sigma)]\n",
    "    sigma = sort(sigma)\n",
    "\n",
    "    # Compute left singular vectors\n",
    "    # initializing the left singular vector\n",
    "    singVec_U = Array{Float64}(undef, m, sig_rank)\n",
    "        \n",
    "    # Compute the left singular vector\n",
    "    for i in 1:sig_rank\n",
    "        # compute AV_i\n",
    "        temp_A = A * singVec_V[:, i]\n",
    "        # normalize AV_i\n",
    "        temp_A_normal = temp_A / sigma[i]\n",
    "        singVec_U[:,i] = temp_A_normal'\n",
    "    end\n",
    "    return singVec_U, sigma, singVec_V\n",
    "end\n"
   ]
  },
  {
   "cell_type": "code",
   "execution_count": 68,
   "metadata": {},
   "outputs": [
    {
     "name": "stdout",
     "output_type": "stream",
     "text": [
      "\n",
      "sigma: 5-element Array{Float64,1}:\n",
      "  0.6071687835514645\n",
      "  0.7631292222952233\n",
      "  1.8541055092054028\n",
      "  2.630052860404346\n",
      " 34.14142256387672\n",
      "A: 10×10 Array{Float64,2}:\n",
      " 0.998047  0.900547   0.0573522  0.928223  0.995109  0.573614   0.902437  0.683653   0.480113  0.580281\n",
      " 0.537694  0.681054   0.677134   0.468123  0.829934  0.446747   0.870962  0.465126   0.109095  0.433063\n",
      " 0.548296  0.155468   0.755607   0.205165  0.856211  0.56104    0.690952  0.455781   0.390484  0.618505\n",
      " 0.727107  0.0655162  0.770151   0.665277  0.52892   0.799571   0.153714  0.259005   0.270657  0.812001\n",
      " 0.588617  0.81033    0.991104   0.880083  0.240216  0.407828   0.826725  0.639832   0.428764  0.881526\n",
      " 0.62872   0.945522   0.700122   0.432846  0.474775  0.0974964  0.643422  0.724474   0.10247   0.0518245\n",
      " 0.225126  0.41879    0.944502   0.122853  0.223036  0.945625   0.564726  0.580062   0.971154  0.62276\n",
      " 0.917303  0.475157   0.993203   0.70194   0.646198  0.727132   0.774231  0.732448   0.185698  0.551233\n",
      " 0.110335  0.86844    0.890872   0.94301   0.261168  0.0278328  0.924351  0.905955   0.229065  0.209624\n",
      " 0.916365  0.660747   0.23239    0.316598  0.631824  0.841015   0.511292  0.0374903  0.404034  0.554302\n",
      "approxA: 10×10 Array{Float64,2}:\n",
      " -0.000505532  -0.0784646  -0.260874    0.28697      0.298029   0.951485  0.543683   0.897512  0.368757   0.274481\n",
      "  0.000280481   0.0439125   0.151859   -0.212754     0.267663   0.731149  0.609066   0.638667  0.0132963  0.167197\n",
      "  0.000260951   0.0474294   0.195608   -0.337564     0.453682   0.795314  0.406702   0.695007  0.248185   0.218725\n",
      " -0.000358205  -0.0464392  -0.109204    0.00935632   0.488171   0.795324  0.0739026  0.485599  0.103819   0.328928\n",
      "  0.000113125   0.0138566   0.0299507  -0.01068      0.058291   0.473051  0.663161   0.96208   0.199432   0.220362\n",
      "  0.000476712   0.0706527   0.222089   -0.241989     0.0138506  0.263585  0.595564   0.710101  0.117774   0.0977336\n",
      "  0.000374549   0.0632471   0.240083   -0.373198     0.420842   0.823792  0.549032   0.833741  0.773058   0.0451176\n",
      "  0.000152291   0.0244675   0.0889546  -0.144169     0.309193   0.846209  0.672177   0.876318  0.085986   0.264707\n",
      "  0.000302374   0.0360217   0.0685842   0.028668    -0.215509   0.192453  0.84996    0.967931  0.188088   0.092551\n",
      " -0.000149427  -0.0180022  -0.0321039  -0.049037     0.459553   0.955808  0.305295   0.289216  0.239308   0.0848236"
     ]
    }
   ],
   "source": [
    "A = rand(10,10)\n",
    "myF = truncatedSVD(A, 5);\n",
    "myU, myS, myV = myF;\n",
    "F = svd(A)\n",
    "U, S, V = F\n",
    "A ≈ myU * Diagonal(myS) * myV'\n",
    "print(\"\\nA: \")\n",
    "show(stdout, \"text/plain\", A)\n",
    "print(\"\\napproxA: \")\n",
    "show(stdout, \"text/plain\", myU * Diagonal(myS) * myV')"
   ]
  },
  {
   "cell_type": "code",
   "execution_count": 69,
   "metadata": {},
   "outputs": [
    {
     "data": {
      "text/plain": [
       "1.463472611106965e-15"
      ]
     },
     "execution_count": 69,
     "metadata": {},
     "output_type": "execute_result"
    }
   ],
   "source": [
    "norm(A - U * Diagonal(S) * V') / norm(A)"
   ]
  },
  {
   "cell_type": "code",
   "execution_count": null,
   "metadata": {},
   "outputs": [],
   "source": []
  }
 ],
 "metadata": {
  "kernelspec": {
   "display_name": "Julia 1.5.1",
   "language": "julia",
   "name": "julia-1.5"
  },
  "language_info": {
   "file_extension": ".jl",
   "mimetype": "application/julia",
   "name": "julia",
   "version": "1.5.1"
  }
 },
 "nbformat": 4,
 "nbformat_minor": 4
}
