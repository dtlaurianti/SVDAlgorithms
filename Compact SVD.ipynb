{
 "cells": [
  {
   "cell_type": "code",
   "execution_count": 59,
   "metadata": {},
   "outputs": [
    {
     "data": {
      "text/plain": [
       "compactSVD (generic function with 2 methods)"
      ]
     },
     "execution_count": 59,
     "metadata": {},
     "output_type": "execute_result"
    }
   ],
   "source": [
    "using LinearAlgebra\n",
    "# SVD algorithm\n",
    "# Takes matrix A as input, outputs unitary matrices U, V and diagonal matrix S\n",
    "# Such that A = U*S*V^T\n",
    "\n",
    "# Compact SVD, computes only the r column vectors of U and r row vectors of V\n",
    "# where r is the rank of sigma\n",
    "function compactSVD(A)\n",
    "    m, n = size(A)\n",
    "        \n",
    "    if (n > m)\n",
    "        throw(ArgumentError(A, \"Matrix must be tall.\"))\n",
    "    end\n",
    "\n",
    "    # compute singular values\n",
    "    sigma = eigvals(A' * A)\n",
    "    \n",
    "    # remove the zero singular values\n",
    "    for s in sigma\n",
    "        if s ≈ 0\n",
    "            pop!(sigma, s)\n",
    "        end\n",
    "    end\n",
    "    \n",
    "    # calculate r\n",
    "    sig_rank = size(filter((x -> x != 0), sigma), 1)\n",
    "    \n",
    "    #singVec_V = eigvecs(SymTridiagonal(A' * A), sigma)\n",
    "    singVec_V = eigvecs(hessenberg(Symmetric(A' * A)).H, sigma)\n",
    "    \n",
    "    # does not work on complex eigen values\n",
    "    # Calculate the squareroot of the eigenvalues of the A'A matrix, which are the eigenvalues of A\n",
    "    sigma = broadcast((x -> sqrt(abs(x))), sigma)\n",
    "    # Sort singVec_V and sigma so the eigenvalues are in descending order\n",
    "    singVec_V = singVec_V[:, sortperm(sigma)]\n",
    "    sigma = sort(sigma)\n",
    "\n",
    "    # Compute left singular vectors\n",
    "    # initializing the left singular vector\n",
    "    singVec_U = Array{Float64}(undef, m, sig_rank)\n",
    "        \n",
    "    # Compute the left singular vector\n",
    "    for i in 1:sig_rank\n",
    "        # compute AV_i\n",
    "        temp_A = A * singVec_V[:, i]\n",
    "        # normalize AV_i\n",
    "        temp_A_normal = temp_A / sigma[i]\n",
    "        singVec_U[:,i] = temp_A_normal'\n",
    "    end\n",
    "    return singVec_U, sigma, singVec_V\n",
    "end\n"
   ]
  },
  {
   "cell_type": "code",
   "execution_count": 60,
   "metadata": {},
   "outputs": [
    {
     "data": {
      "text/plain": [
       "true"
      ]
     },
     "execution_count": 60,
     "metadata": {},
     "output_type": "execute_result"
    }
   ],
   "source": [
    "A = rand(10,10)\n",
    "myF = compactSVD(A);\n",
    "myU, myS, myV = myF;\n",
    "F = svd(A)\n",
    "U, S, V = F\n",
    "A ≈ myU * Diagonal(myS) * myV'"
   ]
  },
  {
   "cell_type": "code",
   "execution_count": 50,
   "metadata": {},
   "outputs": [
    {
     "data": {
      "text/plain": [
       "1.0287707396528748e-15"
      ]
     },
     "execution_count": 50,
     "metadata": {},
     "output_type": "execute_result"
    }
   ],
   "source": [
    "norm(A - U * Diagonal(S) * V') / norm(A)"
   ]
  },
  {
   "cell_type": "code",
   "execution_count": 51,
   "metadata": {},
   "outputs": [
    {
     "data": {
      "text/plain": [
       "2.7351586850221313e-16"
      ]
     },
     "execution_count": 51,
     "metadata": {},
     "output_type": "execute_result"
    }
   ],
   "source": [
    "norm(A - myU * Diagonal(myS) * myV') / norm(A)"
   ]
  },
  {
   "cell_type": "code",
   "execution_count": 44,
   "metadata": {},
   "outputs": [
    {
     "data": {
      "text/plain": [
       "3.3739071121393184e-15"
      ]
     },
     "execution_count": 44,
     "metadata": {},
     "output_type": "execute_result"
    }
   ],
   "source": [
    "norm(myU' * myU - I)"
   ]
  },
  {
   "cell_type": "code",
   "execution_count": 45,
   "metadata": {},
   "outputs": [
    {
     "data": {
      "text/plain": [
       "9.823215122697685e-16"
      ]
     },
     "execution_count": 45,
     "metadata": {},
     "output_type": "execute_result"
    }
   ],
   "source": [
    "norm(U' * U - I)"
   ]
  },
  {
   "cell_type": "code",
   "execution_count": 46,
   "metadata": {},
   "outputs": [
    {
     "data": {
      "text/plain": [
       "1.5008406958793157e-15"
      ]
     },
     "execution_count": 46,
     "metadata": {},
     "output_type": "execute_result"
    }
   ],
   "source": [
    "norm(myV' * myV - I)"
   ]
  },
  {
   "cell_type": "code",
   "execution_count": null,
   "metadata": {},
   "outputs": [],
   "source": []
  }
 ],
 "metadata": {
  "kernelspec": {
   "display_name": "Julia 1.5.1",
   "language": "julia",
   "name": "julia-1.5"
  },
  "language_info": {
   "file_extension": ".jl",
   "mimetype": "application/julia",
   "name": "julia",
   "version": "1.5.1"
  }
 },
 "nbformat": 4,
 "nbformat_minor": 4
}
