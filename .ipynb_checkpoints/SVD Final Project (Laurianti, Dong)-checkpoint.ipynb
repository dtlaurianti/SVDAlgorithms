{
 "cells": [
  {
   "cell_type": "markdown",
   "metadata": {},
   "source": [
    "## CSC 395 Final Project: Code\n",
    "#### Dylan Laurianti, Yilan Dong\n",
    "This file consists of four parts:\n",
    "1. Implementations of SVD algorithms:  \n",
    "    a. general SVD (named mySVD),  \n",
    "    b. thin SVD (myThinSVD),  \n",
    "    c. compact SVD (myCompactSVD) and  \n",
    "    d. truncated SVD (myTruncatedSVD);\n",
    "2. Test cases for all implementations;\n",
    "3. Time efficiency analysis and corresponding graphs;\n",
    "4. Past approaches to SVD that does not yield correct result, commented out.\n",
    "\n",
    "You can run all parts by restarting the kernel, or specific cells, by selecting and running them one at a time."
   ]
  },
  {
   "cell_type": "code",
   "execution_count": 1,
   "metadata": {},
   "outputs": [],
   "source": [
    "# Preperations; required packages and global variable\n",
    "using LinearAlgebra\n",
    "using TSVD\n",
    "using Test\n",
    "using Plots\n",
    "using LightGraphs\n",
    "gr()\n",
    "# chosen due to the limited computation power of our machines\n",
    "max_size = 500; "
   ]
  },
  {
   "cell_type": "markdown",
   "metadata": {},
   "source": [
    "## Implementations"
   ]
  },
  {
   "cell_type": "markdown",
   "metadata": {},
   "source": [
    "#### General SVD"
   ]
  },
  {
   "cell_type": "code",
   "execution_count": 2,
   "metadata": {},
   "outputs": [
    {
     "data": {
      "text/plain": [
       "mySVD (generic function with 2 methods)"
      ]
     },
     "execution_count": 2,
     "metadata": {},
     "output_type": "execute_result"
    }
   ],
   "source": [
    "#=\n",
    "Procedure: mySVD\n",
    "Parameters: A, an mxn matrix; cutNum, an optional parameter indicating the rank needing to be computed\n",
    "Purpose: Applies a general purpose SVD algorithm to calculate the SVD factorization of A\n",
    "         This general implementation can apply all 3 SVD reduction methods, but less efficiently\n",
    "         (Only saves on the calculations of singVec_U)\n",
    "Produces: singVec_U, a mxn matrix containing the left singular vectors of A; \n",
    "          sigma, an array containing n non-decreasing singular values of A;\n",
    "          singVec_V, a nxn matrix containing the right singular vectors of A\n",
    "Preconditions: A's eigenvalues are real numbers; 0 < cutNum <= n\n",
    "Postconditions: A ≈ singVec_U * Diagonal(sigma) * singVec_V'\n",
    "=#\n",
    "function mySVD(A, cutNum=-1)\n",
    "    m, n = size(A)\n",
    "    tall = true\n",
    "    \n",
    "    if (n > m)\n",
    "        tall = false\n",
    "        A = A'\n",
    "        m, n = size(A)\n",
    "    end\n",
    "\n",
    "    # Compute singular values and vectors for V\n",
    "    sigma, singVec_V = eigen(A' * A)\n",
    "    # Does not work on complex eigen values\n",
    "    # Calculate the squareroot of the eigenvalues of the A'A matrix, which are the eigenvalues of A\n",
    "    sigma = broadcast((x -> sqrt(abs(x))), sigma)\n",
    "    # Sort singVec_V and sigma so the eigenvalues are in descending order\n",
    "    singVec_V = singVec_V[:, sortperm(sigma, rev=true)]\n",
    "    sort!(sigma, rev=true)\n",
    "\n",
    "\n",
    "    # Compute the rank\n",
    "    if cutNum == -1\n",
    "        # compute the nonzero singular values\n",
    "        sig_rank = size(filter((x -> x != 0), sigma), 1)\n",
    "    else\n",
    "        sig_rank = cutNum\n",
    "    end\n",
    "\n",
    "    # Compact the sigma matrix to only represent those non-zero singular values\n",
    "    # Or, if cutNum is specified, to only represent the cutNum largest singular values\n",
    "    sigma = sigma[1:sig_rank]\n",
    "\n",
    "    # Compute left singular vectors\n",
    "    # Initializing the left singular vector\n",
    "    singVec_U = Array{Float64}(undef, m, sig_rank)\n",
    "        \n",
    "    # Compute the left singular vector\n",
    "    for i in 1:sig_rank\n",
    "        # Compute AV_i\n",
    "        temp_A = A * singVec_V[:, i]\n",
    "        # Normalize AV_i\n",
    "        temp_A_normal = temp_A / sigma[i]\n",
    "        singVec_U[:,i] = temp_A_normal'\n",
    "    end\n",
    "    # If the matrix was not tall, we need to revert the transpose done at the start of the algorithm\n",
    "    if !tall\n",
    "        return singVec_V, sigma, singVec_U\n",
    "    else\n",
    "        return singVec_U, sigma, singVec_V\n",
    "    end\n",
    "end"
   ]
  },
  {
   "cell_type": "markdown",
   "metadata": {},
   "source": [
    "#### Thin SVD"
   ]
  },
  {
   "cell_type": "code",
   "execution_count": 3,
   "metadata": {},
   "outputs": [
    {
     "data": {
      "text/plain": [
       "myThinSVD (generic function with 1 method)"
      ]
     },
     "execution_count": 3,
     "metadata": {},
     "output_type": "execute_result"
    }
   ],
   "source": [
    "#=\n",
    "Procedure: myThinSVD\n",
    "Parameters: A, a mxn tall and skinny matrix\n",
    "Purpose: Applies a reduced SVD algorithm to calculate the SVD factorization of A\n",
    "Produces: singVec_U, a mxn matrix containing the left singular vectors of A; \n",
    "          sigma, an array containing n non-decreasing singular values of A;\n",
    "          singVec_V, a nxn matrix containing the right singular vectors of A\n",
    "Preconditions: A's eigenvalues are real numbers, m > n\n",
    "Postconditions: A ≈ singVec_U * Diagonal(sigma) * singVec_V'\n",
    "=#\n",
    "function myThinSVD(A)\n",
    "    m, n = size(A)\n",
    "    \n",
    "    # Check if A is tall and skinny\n",
    "    if (n > m)\n",
    "        throw(ArgumentError(A, \"Matrix must be tall.\"))\n",
    "    end\n",
    "\n",
    "    # Compute singular values and vectors for V\n",
    "    sigma, singVec_V = eigen(A' * A)\n",
    "    # Does not work on complex eigen values\n",
    "    # Calculate the squareroot of the eigenvalues of the A'A matrix, which are the eigenvalues of A\n",
    "    sigma = broadcast((x -> sqrt(abs(x))), sigma)\n",
    "    # Sort singVec_V and sigma so the eigenvalues are in descending order\n",
    "    singVec_V = singVec_V[:, sortperm(sigma, rev=true)]\n",
    "    sigma = sort(sigma, rev=true)\n",
    "    sig_rank = size(sigma, 1)\n",
    "    \n",
    "    # Compute left singular vectors\n",
    "    # Initializing the left singular vector\n",
    "    singVec_U = Array{Float64}(undef, m, sig_rank)\n",
    "        \n",
    "    # Compute the left singular vector\n",
    "    for i in 1:sig_rank\n",
    "        # Compute AV_i\n",
    "        temp_A = A * singVec_V[:, i]\n",
    "        # Normalize AV_i\n",
    "        temp_A_normal = temp_A / sigma[i]\n",
    "        singVec_U[:,i] = temp_A_normal'\n",
    "    end\n",
    "    return singVec_U, sigma, singVec_V\n",
    "end"
   ]
  },
  {
   "cell_type": "markdown",
   "metadata": {},
   "source": [
    "#### Compact SVD "
   ]
  },
  {
   "cell_type": "code",
   "execution_count": 4,
   "metadata": {},
   "outputs": [
    {
     "data": {
      "text/plain": [
       "myCompactSVD (generic function with 1 method)"
      ]
     },
     "execution_count": 4,
     "metadata": {},
     "output_type": "execute_result"
    }
   ],
   "source": [
    "#=\n",
    "Procedure: myCompactSVD\n",
    "Parameters: A, a mxn tall and skinny matrix with rank r\n",
    "Purpose: Applies a reduced SVD algorithm to calculate the SVD factorization of A\n",
    "Produces: singVec_U, a mxr matrix containing the left singular vectors of A; \n",
    "          sigma, an array containing r non-decreasing, non-zero singular values of A;\n",
    "          singVec_V, a rxn matrix containing the right singular vectors of A\n",
    "Preconditions: A's eigenvalues are real numbers, m > n\n",
    "Postconditions: A ≈ singVec_U * Diagonal(sigma) * singVec_V'\n",
    "=#\n",
    "function myCompactSVD(A)\n",
    "    m, n = size(A)\n",
    "        \n",
    "    if (n > m)\n",
    "        throw(ArgumentError(A, \"Matrix must be tall.\"))\n",
    "    end\n",
    "\n",
    "    # Compute singular values\n",
    "    sigma = eigvals(A' * A)\n",
    "    \n",
    "    # Remove the zero singular values\n",
    "    for s in sigma\n",
    "        if s ≈ 0\n",
    "            pop!(sigma, s)\n",
    "        end\n",
    "    end\n",
    "    \n",
    "    # Calculate r\n",
    "    sig_rank = size(filter((x -> x != 0), sigma), 1)\n",
    "    \n",
    "    # Compute the singular vectors corresponding to the non-zero singular values\n",
    "    Q, H = hessenberg(Symmetric(A' * A))\n",
    "    singVec_V = Q*eigvecs(H, sigma)\n",
    "    \n",
    "    # Does not work on complex eigen values\n",
    "    # Calculate the squareroot of the eigenvalues of the A'A matrix, which are the eigenvalues of A\n",
    "    sigma = broadcast((x -> sqrt(abs(x))), sigma)\n",
    "    # Sort singVec_V and sigma so the eigenvalues are in descending order\n",
    "    singVec_V = singVec_V[:, sortperm(sigma, rev=true)]\n",
    "    sort!(sigma, rev=true)\n",
    "\n",
    "    # Compute left singular vectors\n",
    "    # Initializing the left singular vector\n",
    "    singVec_U = Array{Float64}(undef, m, sig_rank)\n",
    "        \n",
    "    # Compute the left singular vector\n",
    "    for i in 1:sig_rank\n",
    "        # Compute AV_i\n",
    "        temp_A = A * singVec_V[:, i]\n",
    "        # Normalize AV_i\n",
    "        temp_A_normal = temp_A / sigma[i]\n",
    "        singVec_U[:,i] = temp_A_normal'\n",
    "    end\n",
    "    return singVec_U, sigma, singVec_V\n",
    "end"
   ]
  },
  {
   "cell_type": "markdown",
   "metadata": {},
   "source": [
    "#### Truncated SVD"
   ]
  },
  {
   "cell_type": "code",
   "execution_count": 5,
   "metadata": {},
   "outputs": [
    {
     "data": {
      "text/plain": [
       "myTruncatedSVD (generic function with 1 method)"
      ]
     },
     "execution_count": 5,
     "metadata": {},
     "output_type": "execute_result"
    }
   ],
   "source": [
    "#=\n",
    "Procedure: myTruncatedSVD\n",
    "Parameters: A, an mxn matrix; t, the number of singular values to return\n",
    "Purpose: Applies a reduced SVD algorithm to calculate the SVD factorization of A\n",
    "Produces: singVec_U, a mxt matrix containing the t most important left singular vectors of A; \n",
    "          sigma, an array containing the t greatest non-decreasing singular values of A;\n",
    "          singVec_V, a txn matrix containing the right singular vectors of A\n",
    "Preconditions: A's eigenvalues are real numbers, m > n\n",
    "Postconditions: singVec_U * Diagonal(sigma) * singVec_V' is the best rank t approximation of A\n",
    "=#\n",
    "function myTruncatedSVD(A, t)\n",
    "    m, n = size(A)\n",
    "        \n",
    "    if (n > m)\n",
    "        throw(ArgumentError(A, \"Matrix must be tall.\"))\n",
    "    end\n",
    "\n",
    "    # Compute t singular values\n",
    "    Q, H = hessenberg(Symmetric(A' * A))\n",
    "    sigma, singVec_V = eigen(H, n-t+1:n)\n",
    "    singVec_V = Q*singVec_V\n",
    "    \n",
    "    \n",
    "    # Calculate r\n",
    "    sig_rank = size(filter((x -> x != 0), sigma), 1)\n",
    "    \n",
    "    # Does not work on complex eigen values\n",
    "    # Calculate the squareroot of the eigenvalues of the A'A matrix, which are the eigenvalues of A\n",
    "    sigma = broadcast((x -> sqrt(abs(x))), sigma)\n",
    "    # Sort singVec_V and sigma so the eigenvalues are in descending order\n",
    "    singVec_V = singVec_V[:, sortperm(sigma, rev=true)]\n",
    "    sort!(sigma, rev=true)\n",
    "\n",
    "    # Compute left singular vectors\n",
    "    # Initializing the left singular vector\n",
    "    singVec_U = Array{Float64}(undef, m, sig_rank)\n",
    "        \n",
    "    # Compute the left singular vector\n",
    "    for i in 1:sig_rank\n",
    "        # Compute AV_i\n",
    "        temp_A = A * singVec_V[:, i]\n",
    "        # Normalize AV_i\n",
    "        temp_A_normal = temp_A / sigma[i]\n",
    "        singVec_U[:,i] = temp_A_normal'\n",
    "    end\n",
    "    return singVec_U, sigma, singVec_V\n",
    "end"
   ]
  },
  {
   "cell_type": "markdown",
   "metadata": {},
   "source": [
    "### Tests"
   ]
  },
  {
   "cell_type": "markdown",
   "metadata": {},
   "source": [
    "#### Helper Functions"
   ]
  },
  {
   "cell_type": "code",
   "execution_count": 6,
   "metadata": {},
   "outputs": [
    {
     "data": {
      "text/plain": [
       "absColumnEquals (generic function with 1 method)"
      ]
     },
     "execution_count": 6,
     "metadata": {},
     "output_type": "execute_result"
    }
   ],
   "source": [
    "#=\n",
    "Procedure: absColumnEquals\n",
    "Parameters: A, an mxn matrix; B, an mxn matrix\n",
    "Purpose: For i in 1:n, compares A[i] and B[i]\n",
    "Produces: true, if for all i, A[i] == B[i] or A[i] == -B[i]; false otherwise\n",
    "Preconditions: A and B are of the same size\n",
    "Postconditions: No additional\n",
    "=#\n",
    "function absColumnEquals(A, B)\n",
    "    for i in 1:size(A,1)\n",
    "        if (A[i] ≈ B[i]) || (A[i] ≈ -B[i])\n",
    "            continue\n",
    "        else\n",
    "            return false\n",
    "        end\n",
    "    end\n",
    "    return true\n",
    "end"
   ]
  },
  {
   "cell_type": "code",
   "execution_count": 7,
   "metadata": {},
   "outputs": [
    {
     "data": {
      "text/plain": [
       "truncatedSVD (generic function with 1 method)"
      ]
     },
     "execution_count": 7,
     "metadata": {},
     "output_type": "execute_result"
    }
   ],
   "source": [
    "#=\n",
    "Procedure: truncatedSVD\n",
    "Parameters: A, an mxn matrix; t, the number of singular values to return\n",
    "Purpose: Applies a reduced SVD algorithm to calculate the SVD factorization of A\n",
    "         Implemented using the built-in svd algorithm from linearAlgebra.jl\n",
    "Produces: singVec_U, a mxt matrix containing the t most important left singular vectors of A; \n",
    "          sigma, an array containing the t greatest non-decreasing singular values of A;\n",
    "          singVec_V, a txn matrix containing the right singular vectors of A\n",
    "Preconditions: A's eigenvalues are real numbers, m > n\n",
    "Postconditions: singVec_U * Diagonal(sigma) * singVec_V' is the best rank t approximation of A\n",
    "=#\n",
    "function truncatedSVD(A, t)\n",
    "    U, S, V = svd(A)\n",
    "    return U[:, 1:t], S[1:t], V[:, 1:t]\n",
    "end"
   ]
  },
  {
   "cell_type": "markdown",
   "metadata": {},
   "source": [
    "#### General SVD"
   ]
  },
  {
   "cell_type": "code",
   "execution_count": null,
   "metadata": {},
   "outputs": [],
   "source": [
    "@testset \"General SVD Tests\" begin\n",
    "    @testset \"Square Matrices\" begin\n",
    "        for n in 3:3:max_size\n",
    "            for i in 1:10\n",
    "                A = rand(n,n)\n",
    "                U, S, V = svd(A)\n",
    "                myU, myS, myV = mySVD(A)\n",
    "                \n",
    "                # since SVD values are not unique, we verify its correctness as follows\n",
    "                @test absColumnEquals(U, myU)\n",
    "                @test S ≈ myS\n",
    "                @test absColumnEquals(V, myV)\n",
    "                @test A ≈ U * Diagonal(S) * V' ≈ myU *  Diagonal(myS) * myV'\n",
    "            end\n",
    "        end\n",
    "    end\n",
    "    \n",
    "    @testset \"General Matrices\" begin\n",
    "        for n in 3:3:max_size\n",
    "            for i in 1:10\n",
    "                m = rand(1:max_size)\n",
    "                A = rand(n,m)\n",
    "                U, S, V = svd(A)\n",
    "                myU, myS, myV = mySVD(A)\n",
    "                \n",
    "                # since SVD values are not unique, we verify its correctness as follows\n",
    "                @test absColumnEquals(U, myU)\n",
    "                @test S ≈ myS\n",
    "                @test absColumnEquals(V, myV)\n",
    "                @test A ≈ U * Diagonal(S) * V' ≈ myU * Diagonal(myS) * myV'\n",
    "            end\n",
    "        end\n",
    "    end\n",
    "end;"
   ]
  },
  {
   "cell_type": "markdown",
   "metadata": {},
   "source": [
    "#### Thin SVD "
   ]
  },
  {
   "cell_type": "code",
   "execution_count": null,
   "metadata": {},
   "outputs": [],
   "source": [
    "@testset \"Thin SVD Tests\" begin\n",
    "    @testset \"Square Matrices\" begin\n",
    "        for n in 3:3:max_size\n",
    "            for i in 1:10\n",
    "                A = rand(n,n)\n",
    "                U, S, V = svd(A, full=false);\n",
    "                myU, myS, myV = myThinSVD(A);\n",
    "                \n",
    "                # since SVD values are not unique, we verify its correctness by the following\n",
    "                @test absColumnEquals(U, myU)\n",
    "                @test S ≈ myS\n",
    "                @test absColumnEquals(V, myV)\n",
    "                @test A ≈ U * Diagonal(S) * V' ≈ myU * Diagonal(myS) * myV'\n",
    "            end\n",
    "        end\n",
    "    end\n",
    "    \n",
    "    @testset \"General Tall Matrices\" begin\n",
    "        for n in 3:3:max_size\n",
    "            for i in 1:10\n",
    "                m = rand(1:n)\n",
    "                A = rand(n,m) # A must be a tall matrix\n",
    "                U, S, V = svd(A, full=false);\n",
    "                myU, myS, myV = myThinSVD(A);\n",
    "                                \n",
    "                # since SVD values are not unique, we verify its correctness by the following\n",
    "                @test absColumnEquals(U, myU)\n",
    "                @test S ≈ myS\n",
    "                @test absColumnEquals(V, myV)\n",
    "                @test A ≈ U * Diagonal(S) * V' ≈ myU * Diagonal(myS) * myV' \n",
    "            end\n",
    "        end\n",
    "    end\n",
    "end;"
   ]
  },
  {
   "cell_type": "markdown",
   "metadata": {},
   "source": [
    "#### Compact SVD"
   ]
  },
  {
   "cell_type": "code",
   "execution_count": null,
   "metadata": {},
   "outputs": [],
   "source": [
    "@testset \"Compact SVD Tests\" begin\n",
    "    @testset \"Square Matrices\" begin\n",
    "        for n in 3:3:max_size\n",
    "            for i in 1:10\n",
    "                A = rand(n,n)\n",
    "                U, S, V = svd(A, full=false);\n",
    "                myU, myS, myV = myCompactSVD(A);\n",
    "\n",
    "                # since SVD values are not unique, we verify its correctness by the following\n",
    "                @test absColumnEquals(U, myU)\n",
    "                @test S ≈ myS\n",
    "                @test absColumnEquals(V, myV)\n",
    "                @test A ≈ U * Diagonal(S) * V' ≈ myU * Diagonal(myS) * myV'\n",
    "            end\n",
    "        end\n",
    "    end\n",
    "    \n",
    "    @testset \"General Tall Matrices\" begin\n",
    "        for n in 3:3:max_size\n",
    "            for i in 1:10\n",
    "                m = rand(1:n) # A must be a tall matrix\n",
    "                A = rand(n,m)\n",
    "                U, S, V = svd(A, full=false);\n",
    "                myU, myS, myV = myCompactSVD(A);\n",
    "\n",
    "                # since SVD values are not unique, we verify its correctness by the following\n",
    "                @test absColumnEquals(U, myU)\n",
    "                @test S ≈ myS\n",
    "                @test absColumnEquals(V, myV)\n",
    "                @test A ≈ U * Diagonal(S) * V' ≈ myU * Diagonal(myS) * myV'\n",
    "            end\n",
    "        end\n",
    "    end\n",
    "end;"
   ]
  },
  {
   "cell_type": "markdown",
   "metadata": {},
   "source": [
    "#### Truncated SVD "
   ]
  },
  {
   "cell_type": "code",
   "execution_count": null,
   "metadata": {},
   "outputs": [],
   "source": [
    "@testset \"Truncated SVD Tests\" begin\n",
    "    @testset \"Square Matrices\" begin\n",
    "        for n in 3:3:max_size\n",
    "            for i in 1:10\n",
    "                A = rand(n,n)\n",
    "                t = rand(1:n)\n",
    "                U, S, V = truncatedSVD(A, t)\n",
    "                myU, myS, myV = myTruncatedSVD(A, t)\n",
    "                \n",
    "                # since SVD values are not unique, we verify its correctness by the following\n",
    "                @test absColumnEquals(U, myU)\n",
    "                @test absColumnEquals(V, myV)\n",
    "                @test S ≈ myS\n",
    "            end\n",
    "        end\n",
    "    end\n",
    "    \n",
    "    @testset \"General Tall Matrices\" begin\n",
    "        for n in 3:3:max_size\n",
    "            for i in 1:10\n",
    "                m = rand(1:n) # A must be a tall matrix\n",
    "                A = rand(n,m)\n",
    "                t = rand(1:m)\n",
    "                U, S, V = truncatedSVD(A, t)\n",
    "                myA = U * Diagonal(S) * V'\n",
    "                myU, myS, myV = myTruncatedSVD(A, t)\n",
    "                \n",
    "                # since SVD values are not unique, we verify its correctness by the following\n",
    "                @test absColumnEquals(U, myU)\n",
    "                @test absColumnEquals(V, myV)\n",
    "                @test S ≈ myS\n",
    "            end\n",
    "        end\n",
    "    end\n",
    "end;"
   ]
  },
  {
   "cell_type": "markdown",
   "metadata": {},
   "source": [
    "### Time Complexity Analysis\n",
    "#### General SVD, Thin SVD and Compact SVD\n",
    "All three are compared with the standard svd algorithm from LinearAlgebra.jl."
   ]
  },
  {
   "cell_type": "code",
   "execution_count": null,
   "metadata": {},
   "outputs": [],
   "source": [
    "matrix_sizes = []\n",
    "builtInSVD_speed = []\n",
    "generalSVD_speed = []\n",
    "thinSVD_speed = []\n",
    "compactSVD_speed = []\n",
    "for n in 3:3:max_size\n",
    "    push!(matrix_sizes, n)\n",
    "    t1 = 0\n",
    "    t2 = 0\n",
    "    t3 = 0\n",
    "    t4 = 0\n",
    "    for i in 1:10\n",
    "        A = rand(n,n)\n",
    "        t1 += @elapsed svd(A)\n",
    "        t2 += @elapsed mySVD(A)\n",
    "        t3 += @elapsed myThinSVD(A) \n",
    "        t4 += @elapsed myCompactSVD(A) \n",
    "    end\n",
    "    push!(builtInSVD_speed, t1 / 10)\n",
    "    push!(generalSVD_speed, t2 / 10)\n",
    "    push!(thinSVD_speed, t3 / 10)\n",
    "    push!(compactSVD_speed, t4 / 10)\n",
    "end\n",
    "\n",
    "plot(matrix_sizes, builtInSVD_speed, label=\"Built-in SVD\") \n",
    "plot!(matrix_sizes, generalSVD_speed, label=\"myGeneralSVD\") \n",
    "plot!(matrix_sizes, thinSVD_speed, label=\"myThinSVD\") \n",
    "plot!(matrix_sizes, compactSVD_speed, label=\"myCompactSVD\") \n",
    "xlabel!(\"Size input matrix\")\n",
    "ylabel!(\"Time elapsed\")\n",
    "title!(\"Performance of General, Thin and Compact SVDs, \\ncompared with the built-in SVD\")"
   ]
  },
  {
   "cell_type": "markdown",
   "metadata": {},
   "source": [
    "#### Truncated SVD \n",
    "##### Compared with truncatedSVD algrorithm, which is implemented using svd algorithm from LinearAlgebra.jl, and with tsvd, from TSVD.jl"
   ]
  },
  {
   "cell_type": "code",
   "execution_count": null,
   "metadata": {},
   "outputs": [],
   "source": [
    "matrix_sizes = []\n",
    "truncatedSVD_speed = []\n",
    "builtInTSVD_speed = []\n",
    "myTruncatedSVD_speed = []\n",
    "for n in 3:3:max_size\n",
    "    push!(matrix_sizes, n)\n",
    "    t1 = 0\n",
    "    t2 = 0\n",
    "    t3 = 0\n",
    "    for i in 1:10\n",
    "        A = rand(n,n)\n",
    "        t = rand(1:n)\n",
    "        t1 += @elapsed truncatedSVD(A, t) \n",
    "        t2 += @elapsed tsvd(A, t)\n",
    "        t3 += @elapsed myTruncatedSVD(A, t) \n",
    "    end\n",
    "    push!(truncatedSVD_speed, t1 / 10)\n",
    "    push!(builtInTSVD_speed, t2 / 10)\n",
    "    push!(myTruncatedSVD_speed, t3 / 10)\n",
    "end\n",
    "\n",
    "plot(matrix_sizes, truncatedSVD_speed, label=\"truncatedSVD\") \n",
    "plot!(matrix_sizes, builtInTSVD_speed, label=\"buitInTSVD\") \n",
    "plot!(matrix_sizes, myTruncatedSVD_speed, label=\"myTruncatedSVD\") \n",
    "xlabel!(\"Size of input matrix\")\n",
    "ylabel!(\"Time elapsed\")\n",
    "title!(\"Performance of Truncated SVD, \\ncompared with the built-in Truncated SVDs\")"
   ]
  },
  {
   "cell_type": "markdown",
   "metadata": {},
   "source": [
    "### Previous Implementation"
   ]
  },
  {
   "cell_type": "markdown",
   "metadata": {},
   "source": [
    "#### SVD algorithm \n",
    "Implemented from scratch"
   ]
  },
  {
   "cell_type": "code",
   "execution_count": null,
   "metadata": {},
   "outputs": [],
   "source": [
    "#=\n",
    "# SVD algorithm\n",
    "# Takes matrix A as input, outputs unitary matrices U, V and diagonal matrix S\n",
    "# Such that A = U*S*V^T\n",
    "# Optional input iterations\n",
    "function SVD(A, error=1e-3)\n",
    "    m = size(A, 1)\n",
    "    n = size(A, 2)\n",
    "    # Reduce A to a bidiagonal matrix\n",
    "    A, d, e, tauq, taup = LAPACK.gebrd!(A)\n",
    "    B = diagm(m, n, 0 => d, 1 => e)\n",
    "    Q, P = AccumulateHouseholder(A, tauq, taup)\n",
    "    # Compute the QR factorization of A implicitly\n",
    "    R, S, C, iters, diags = implicitQR(B, error)    \n",
    "    # U = R*Q is the accumulation of row Givens rotations and pre-multiplied Householder reflections\n",
    "    # V = C*P is the accumulation of column Givens rotations and post-multiplied Householder reflections\n",
    "    return R*Q, S, C*P, iters, diags\n",
    "end\n",
    "=#"
   ]
  },
  {
   "cell_type": "markdown",
   "metadata": {},
   "source": [
    "#### Helper Procedures: WilkinsonShift, HouseholderToMatrix and AccumulateHouseholder"
   ]
  },
  {
   "cell_type": "code",
   "execution_count": null,
   "metadata": {},
   "outputs": [],
   "source": [
    "#=\n",
    "# Computes the Wilkonson shift for a symmetric matrix A where submatrix A[n-1:n, n-1:n] = [a b, b c]\n",
    "function WilkinsonShift(A)\n",
    "    n = size(A, 1)\n",
    "    a = A[n-1, n-1]\n",
    "    b = A[n-1, n]\n",
    "    c = A[n, n]\n",
    "    delta = (a - c)/2\n",
    "    return c - sign(delta)*b^2/(abs(delta) + sqrt(delta^2+b^2))\n",
    "end\n",
    "\n",
    "#Computes the Householder matrix from the unit vector v, scalar tau, and dimension n\n",
    "function HouseholderToMatrix(v, tau, n)\n",
    "    return Matrix{Float64}(I, n, n) .- tau*(v*v')\n",
    "end\n",
    "\n",
    "# Takes the output of gebrd! and reconstructs Q, P\n",
    "function AccumulateHouseholder(A, tauq, taup)\n",
    "    m = size(A, 1)\n",
    "    n = size(A, 2)\n",
    "    Q = I\n",
    "    P = I\n",
    "    # Loop over the input matrix and calculate H_i\n",
    "    if m >= n\n",
    "        for i in 1:m-1\n",
    "            vq = zeros(m)\n",
    "            vq[i] = 1\n",
    "            vq[i+1:m] = A[i+1:m, i]\n",
    "            Hq = HouseholderToMatrix(vq, tauq[i], m)\n",
    "            Q = Q*Hq\n",
    "        end\n",
    "        for i in 1:n-2\n",
    "            vp = zeros(n)\n",
    "            vp[i+1] = 1\n",
    "            vp[i+2:n] = A[i, i+2:n]\n",
    "            Hp = HouseholderToMatrix(vp, taup[i], n)\n",
    "            P = P*Hp\n",
    "        end\n",
    "    else\n",
    "        for i in 1:m-2\n",
    "            vq = zeros(m)\n",
    "            vq[i+2] = 1\n",
    "            vq[i+2:m] = A[i+2:m, i]\n",
    "            Hq = HouseholderToMatrix(vq, tauq[i], m)\n",
    "            Q = Q*Hq\n",
    "        end\n",
    "        for i in 1:n-1\n",
    "            vp = zeros(n)\n",
    "            vp[i] = 1\n",
    "            vp[i+1:n] = A[i, i+1:n]\n",
    "            Hp = HouseholderToMatrix(vp, taup[i], n)\n",
    "            P = P*Hp\n",
    "        end\n",
    "    end\n",
    "    return Q, P\n",
    "end\n",
    "=#"
   ]
  },
  {
   "cell_type": "markdown",
   "metadata": {},
   "source": [
    "#### Implicit QR Algorithm\n",
    "We didn't succeed in implementing it."
   ]
  },
  {
   "cell_type": "code",
   "execution_count": null,
   "metadata": {},
   "outputs": [],
   "source": [
    "#=\n",
    "# Implicit QR algorithm\n",
    "# Takes bidiagonal matrix A and outputs the eigenvalues and rotations\n",
    "# Optional input iterations\n",
    "function implicitQR(A, error=1e-3)\n",
    "    m = size(A, 1)\n",
    "    n = size(A, 2)\n",
    "    # Column rotations accumulation matrix\n",
    "    C = Matrix{Float64}(I, n, n)\n",
    "    # Row rotations accumulation matrix\n",
    "    R = Matrix{Float64}(I, m, m)\n",
    "    iter = 1000\n",
    "    iters = [x for x in 1:iter]\n",
    "    diags = []\n",
    "    while (iter > 0) # A[1,2] > error)\n",
    "        T = adjoint(A)*A\n",
    "        mu = WilkinsonShift(T)\n",
    "        # Determine the first Givens row rotation G1T that would be applied to T - mu*I\n",
    "        G = givens(T-mu*I, 1, 2, 1)[1]\n",
    "        # Apply to columns 1 & 2, creating an unwanted nonzero at (2, 1)\n",
    "        A = A*G\n",
    "        # Store G1 in C\n",
    "        C = C*G\n",
    "        # Determine Givens row rotation H1\n",
    "        H = givens(A, 1, 2, 1)[1]\n",
    "        # Apply to rows 1 & 2\n",
    "        A = H*A\n",
    "        # Store H1 in R\n",
    "        R = H*R\n",
    "        # Keep rotating the nonzero entry down the diagonal until it is eliminated\n",
    "        i = 2\n",
    "        while (i < m && i < n)\n",
    "            G = givens(A', i, i+1, i-1)[1]\n",
    "            A = A*G'\n",
    "            C = C*G'\n",
    "            H = givens(A, i, i+1, i)[1]\n",
    "            A = H*A\n",
    "            R = H*R\n",
    "            i += 1\n",
    "        end\n",
    "        iter -= 1\n",
    "        push!(diags, abs(A[1,2]))\n",
    "    end\n",
    "    return R, A, C, iters, diags\n",
    "end\n",
    "=#"
   ]
  }
 ],
 "metadata": {
  "kernelspec": {
   "display_name": "Julia 1.5.1",
   "language": "julia",
   "name": "julia-1.5"
  },
  "language_info": {
   "file_extension": ".jl",
   "mimetype": "application/julia",
   "name": "julia",
   "version": "1.5.1"
  }
 },
 "nbformat": 4,
 "nbformat_minor": 4
}
