{
 "cells": [
  {
   "cell_type": "code",
   "execution_count": 49,
   "metadata": {},
   "outputs": [
    {
     "data": {
      "text/plain": [
       "thinSVD (generic function with 2 methods)"
      ]
     },
     "execution_count": 49,
     "metadata": {},
     "output_type": "execute_result"
    }
   ],
   "source": [
    "using LinearAlgebra\n",
    "# SVD algorithm\n",
    "# Takes matrix A as input, outputs unitary matrices U, V and diagonal matrix S\n",
    "# Such that A = U*S*V^T\n",
    "# Optional input iterations\n",
    "\n",
    "# Thin SVD, computes only the column vectors of U corresponding to a row in V\n",
    "function thinSVD(A)\n",
    "    m, n = size(A)\n",
    "    \n",
    "    if (n > m)\n",
    "        throw(ArgumentError(A, \"Matrix must be tall.\"))\n",
    "    end\n",
    "\n",
    "    # compute singular values and vectors for V\n",
    "    singVal_V, singVec_V = eigen(A' * A)\n",
    "    # does not work on complex eigen values\n",
    "    # Calculate the squareroot of the eigenvalues of the A'A matrix, which are the eigenvalues of A\n",
    "    singVal_V = broadcast((x -> sqrt(abs(x))), singVal_V)\n",
    "    # Sort singVec_V and singVal_V so the eigenvalues are in descending order\n",
    "    singVec_V = singVec_V[:, sortperm(singVal_V)]\n",
    "    singVal_V = sort(singVal_V)\n",
    "\n",
    "    #define singular values and its matrix\n",
    "    sigma = singVal_V\n",
    "    \n",
    "    sig_rank = size(filter((x -> x != 0), sigma), 1)\n",
    "    #=\n",
    "    # only remain the part we need\n",
    "    sigma = sigma[1:sig_rank]\n",
    "    =#\n",
    "    # Compute left singular vectors\n",
    "    # initializing the left singular vector\n",
    "    singVec_U = Array{Float64}(undef, n, sig_rank)\n",
    "        \n",
    "    # Compute the left singular vector\n",
    "    for i in 1:sig_rank\n",
    "        # compute AV_i\n",
    "        temp_A = A * singVec_V[:, i]\n",
    "        # normalize AV_i\n",
    "        temp_A_normal = temp_A / sigma[i]\n",
    "        singVec_U[:,i] = temp_A_normal'\n",
    "    end\n",
    "    return singVec_U, sigma, singVec_V\n",
    "end\n"
   ]
  },
  {
   "cell_type": "code",
   "execution_count": 50,
   "metadata": {},
   "outputs": [
    {
     "data": {
      "text/plain": [
       "true"
      ]
     },
     "execution_count": 50,
     "metadata": {},
     "output_type": "execute_result"
    }
   ],
   "source": [
    "A = rand(25,5)\n",
    "myF = thinSVD(A);\n",
    "myU, myS, myV = myF;\n",
    "F = svd(A)\n",
    "U, S, V = F\n",
    "A ≈ myU * Diagonal(myS) * myV'"
   ]
  },
  {
   "cell_type": "code",
   "execution_count": 42,
   "metadata": {},
   "outputs": [
    {
     "data": {
      "text/plain": [
       "7.569546617371121e-16"
      ]
     },
     "execution_count": 42,
     "metadata": {},
     "output_type": "execute_result"
    }
   ],
   "source": [
    "norm(A - U * Diagonal(S) * V') / norm(A)"
   ]
  },
  {
   "cell_type": "code",
   "execution_count": 43,
   "metadata": {},
   "outputs": [
    {
     "data": {
      "text/plain": [
       "4.870327571708378e-16"
      ]
     },
     "execution_count": 43,
     "metadata": {},
     "output_type": "execute_result"
    }
   ],
   "source": [
    "norm(A - myU * Diagonal(myS) * myV') / norm(A)"
   ]
  },
  {
   "cell_type": "code",
   "execution_count": 44,
   "metadata": {},
   "outputs": [
    {
     "data": {
      "text/plain": [
       "3.3739071121393184e-15"
      ]
     },
     "execution_count": 44,
     "metadata": {},
     "output_type": "execute_result"
    }
   ],
   "source": [
    "norm(myU' * myU - I)"
   ]
  },
  {
   "cell_type": "code",
   "execution_count": 45,
   "metadata": {},
   "outputs": [
    {
     "data": {
      "text/plain": [
       "9.823215122697685e-16"
      ]
     },
     "execution_count": 45,
     "metadata": {},
     "output_type": "execute_result"
    }
   ],
   "source": [
    "norm(U' * U - I)"
   ]
  },
  {
   "cell_type": "code",
   "execution_count": 46,
   "metadata": {},
   "outputs": [
    {
     "data": {
      "text/plain": [
       "1.5008406958793157e-15"
      ]
     },
     "execution_count": 46,
     "metadata": {},
     "output_type": "execute_result"
    }
   ],
   "source": [
    "norm(myV' * myV - I)"
   ]
  }
 ],
 "metadata": {
  "kernelspec": {
   "display_name": "Julia 1.5.1",
   "language": "julia",
   "name": "julia-1.5"
  },
  "language_info": {
   "file_extension": ".jl",
   "mimetype": "application/julia",
   "name": "julia",
   "version": "1.5.1"
  }
 },
 "nbformat": 4,
 "nbformat_minor": 4
}
