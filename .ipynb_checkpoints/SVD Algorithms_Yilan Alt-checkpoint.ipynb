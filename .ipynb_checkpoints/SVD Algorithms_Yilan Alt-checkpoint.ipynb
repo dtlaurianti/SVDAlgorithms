{
 "cells": [
  {
   "cell_type": "code",
   "execution_count": 2,
   "metadata": {},
   "outputs": [
    {
     "data": {
      "text/plain": [
       "mySVD (generic function with 2 methods)"
      ]
     },
     "execution_count": 2,
     "metadata": {},
     "output_type": "execute_result"
    }
   ],
   "source": [
    "using LinearAlgebra\n",
    "# SVD algorithm\n",
    "# Takes matrix A as input, outputs unitary matrices U, V and diagonal matrix S\n",
    "# Such that A = U*S*V^T\n",
    "# Optional input iterations\n",
    "\n",
    "#Implementing SVD algorithm\n",
    "#cutNum is the constant k that you want to have best k-rank approximation\n",
    "function mySVD(A, cutNum=-1)\n",
    "    m, n = size(A)\n",
    "    tall = true\n",
    "    \n",
    "    if (n > m)\n",
    "        tall = false\n",
    "        A = A'\n",
    "        m, n = size(A)\n",
    "    end\n",
    "\n",
    "    # compute singular values and vectors for V\n",
    "    singVal_V, singVec_V = eigen(A' * A)\n",
    "    # does not work on complex eigen values\n",
    "    singVal_V = broadcast((x -> sqrt(abs(x))), singVal_V)\n",
    "    singVec_V = singVec_V[:, sortperm(singVal_V)]\n",
    "    singVal_V = sort(singVal_V)\n",
    "\n",
    "    #define singular values and its matrix\n",
    "    sigma = singVal_V\n",
    "\n",
    "    # compute the rank\n",
    "    if cutNum == -1\n",
    "        # compute the nonzero singular values\n",
    "        sig_rank = size(filter((x -> x != 0), sigma), 1)\n",
    "    else\n",
    "        sig_rank = cutNum\n",
    "    end\n",
    "\n",
    "    # only remain the part we need\n",
    "    sigma = sigma[1:sig_rank]\n",
    "\n",
    "    # Compute left singular vectors\n",
    "    # initializing the left singular vector\n",
    "    singVec_U = Array{Float64}(undef, n, sig_rank)\n",
    "        \n",
    "    # Compute the left singular vector\n",
    "    for i in 1:sig_rank\n",
    "        # compute AV_i\n",
    "        temp_A = A * singVec_V[:, i]\n",
    "        # normalize AV_i\n",
    "        temp_A_normal = temp_A / sigma[i]\n",
    "        singVec_U[:,i] = temp_A_normal'\n",
    "    end\n",
    "    return singVec_U, sigma, singVec_V\n",
    "end"
   ]
  },
  {
   "cell_type": "code",
   "execution_count": 3,
   "metadata": {
    "scrolled": true
   },
   "outputs": [
    {
     "data": {
      "text/plain": [
       "true"
      ]
     },
     "execution_count": 3,
     "metadata": {},
     "output_type": "execute_result"
    }
   ],
   "source": [
    "A = rand(6,5)\n",
    "myF = mySVD(A);\n",
    "myU, myS, myV = myF;\n",
    "F = svd(A)\n",
    "U, S, V = F\n",
    "A ≈ myU * Diagonal(myS) * myV'"
   ]
  },
  {
   "cell_type": "code",
   "execution_count": 4,
   "metadata": {},
   "outputs": [
    {
     "data": {
      "text/plain": [
       "9.365071379495762e-16"
      ]
     },
     "execution_count": 4,
     "metadata": {},
     "output_type": "execute_result"
    }
   ],
   "source": [
    "norm(A - U * Diagonal(S) * V') / norm(A)"
   ]
  },
  {
   "cell_type": "code",
   "execution_count": 5,
   "metadata": {},
   "outputs": [
    {
     "data": {
      "text/plain": [
       "6.080347425071067e-16"
      ]
     },
     "execution_count": 5,
     "metadata": {},
     "output_type": "execute_result"
    }
   ],
   "source": [
    "norm(A - myU * Diagonal(myS) * myV') / norm(A)"
   ]
  },
  {
   "cell_type": "code",
   "execution_count": 6,
   "metadata": {},
   "outputs": [
    {
     "data": {
      "text/plain": [
       "5.377991875869933e-15"
      ]
     },
     "execution_count": 6,
     "metadata": {},
     "output_type": "execute_result"
    }
   ],
   "source": [
    "norm(myU' * myU - I)"
   ]
  },
  {
   "cell_type": "code",
   "execution_count": 7,
   "metadata": {},
   "outputs": [
    {
     "data": {
      "text/plain": [
       "1.0"
      ]
     },
     "execution_count": 7,
     "metadata": {},
     "output_type": "execute_result"
    }
   ],
   "source": [
    "norm(myU * myU' - I)"
   ]
  },
  {
   "cell_type": "code",
   "execution_count": 8,
   "metadata": {},
   "outputs": [
    {
     "data": {
      "text/plain": [
       "1.0890608191902584e-15"
      ]
     },
     "execution_count": 8,
     "metadata": {},
     "output_type": "execute_result"
    }
   ],
   "source": [
    "norm(myV' * myV - I)"
   ]
  }
 ],
 "metadata": {
  "kernelspec": {
   "display_name": "Julia 1.5.1",
   "language": "julia",
   "name": "julia-1.5"
  },
  "language_info": {
   "file_extension": ".jl",
   "mimetype": "application/julia",
   "name": "julia",
   "version": "1.5.1"
  }
 },
 "nbformat": 4,
 "nbformat_minor": 4
}
